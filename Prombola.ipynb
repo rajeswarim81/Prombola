{
 "cells": [
  {
   "cell_type": "markdown",
   "id": "bd78bf1d",
   "metadata": {},
   "source": [
    "We have designed a game inspired from a very old traditional Indian game called Tambola. It is played with a uniform distribution of natural numbers. We have renovated the game to apply our takeaways from the course ECE 225A, and made it more interesting. "
   ]
  },
  {
   "cell_type": "code",
   "execution_count": 1,
   "id": "6e471828",
   "metadata": {},
   "outputs": [],
   "source": [
    "import random\n",
    "import numpy as np\n",
    "import sys\n",
    "\n",
    "#GAME PARAMETERS\n",
    "mu, sigma = 50, 35 # mean and standard deviation\n",
    "n=90 #range of numbers that will be called\n",
    "N=5 #number of player\n",
    "C=15 #number of cards the caller calls\n",
    "R=10 #number of cards with players\n",
    "rowsInTicket=3  #number of rows in the players' tickets\n",
    "columnsInTicket=9  #number of columns in the players' tickets\n",
    "     "
   ]
  },
  {
   "cell_type": "code",
   "execution_count": 2,
   "id": "4f70d92b",
   "metadata": {},
   "outputs": [
    {
     "name": "stdout",
     "output_type": "stream",
     "text": [
      "[39. 43. 22. 19. 11. 81.  7. 69.  8. 46. 39. 27. 25. 89.  7. 71. 14.  3.\n",
      " 59. 77. 40. 19.  4. 24. 47. 85. 84. 32. 43. 47.  0. 88. 63. 44. 41. 42.\n",
      " 49. 65. 84. 83. 18. 37. 33. 63. 86. 84. 59. 33. 54. 40. 83. 68. 51.  3.\n",
      " 27. 83.  7. 62. 51. 52. 77. 32. 35. 61.  8. 76. 32. 88.  3. 45. 34. 26.\n",
      " 70. 57. 21. 38. 73. 25. 52. 40. 79. 24. 39. 85. 72. 31. 39. 47. 47. 39.]\n"
     ]
    }
   ],
   "source": [
    "#To define the distribution of tickets, \n",
    "# we generate random numbers from a normal distribution with the specified mu and sigma\n",
    "# To avoid numbers >100 we take module of the numbers with 100\n",
    "# To avoid negative numbers, we take an absolute of their values\n",
    "s = np.random.normal(mu, sigma, n)   \n",
    "ticketNumberDistribution = abs(np.floor(s)%n)  \n",
    "print(ticketNumberDistribution)"
   ]
  },
  {
   "cell_type": "code",
   "execution_count": 19,
   "id": "ea8e517a",
   "metadata": {},
   "outputs": [],
   "source": [
    "def getTickets():\n",
    "    \"\"\"\n",
    "    #1 - Maintain array of total_numbers between 1 and 90. Initialize ticket_array as 3x9 array of 0s\n",
    "    #2 - Generate 15 random indices from the array of total_indices. \n",
    "    #3 - Compute index to drop the value into based on RULE #1, RULE #2\n",
    "    #4 - Remove values used in the ticket from the base array (RULE #1, RULE #2)\n",
    "    #5 - Repeat till 15 numbers are populated into ticket\n",
    "    #6 - Sort numbers in every column of the ticket based on RULE #3\n",
    "    \"\"\"\n",
    "    # Create a 2D array [3x9] of 0s\n",
    "    ticket_array = np.zeros((3, 9), dtype=int)\n",
    "    # Create an a list of numbers from 1 to 90.\n",
    "    total_numbers = [num for num in range(1, 90)]\n",
    "    # Create a list of tupele of all the indices of 3x9 ticket_array . i.e (0,0),(0,1),...,(2,8)\n",
    "    total_indices = [(i, j) for i in range(3) for j in range(9)]\n",
    "    # Create an empty list to store 15 random indices to fill in the value.\n",
    "    random_indices = []\n",
    "    print(total_numbers)\n",
    "\n",
    "    # Generate 15 random indices that satisfies RULE #1 and store them in random_indices array.\n",
    "\n",
    "    first_row = random.sample(total_indices[:9], 5)\n",
    "    second_row = random.sample(total_indices[9:18], 5)\n",
    "    third_row = random.sample(total_indices[-9:], 5)\n",
    "\n",
    "    for i in first_row:\n",
    "        random_indices.append(i)\n",
    "\n",
    "    for i in second_row:\n",
    "        random_indices.append(i)\n",
    "\n",
    "    for i in third_row:\n",
    "        random_indices.append(i)\n",
    "\n",
    "    # Populate values in the randomly generated indices such that it satisfies RULE #2 and replace the  value of the used value in total_numbers array by 0.\n",
    "\n",
    "    for num in random_indices:\n",
    "        if num[1] == 0:\n",
    "            number = random.choice(total_numbers[:10])\n",
    "            ticket_array[num] = number\n",
    "            total_numbers[total_numbers.index(number)] = 0\n",
    "        elif num[1] == 1:\n",
    "            number = random.choice(total_numbers[10:20])\n",
    "            ticket_array[num] = number\n",
    "            total_numbers[total_numbers.index(number)] = 0\n",
    "        elif num[1] == 2:\n",
    "            number = random.choice(total_numbers[20:30])\n",
    "            ticket_array[num] = number\n",
    "            total_numbers[total_numbers.index(number)] = 0\n",
    "        elif num[1] == 3:\n",
    "            number = random.choice(total_numbers[30:40])\n",
    "            ticket_array[num] = number\n",
    "            total_numbers[total_numbers.index(number)] = 0\n",
    "        elif num[1] == 4:\n",
    "            number = random.choice(total_numbers[40:50])\n",
    "            ticket_array[num] = number\n",
    "            total_numbers[total_numbers.index(number)] = 0\n",
    "        elif num[1] == 5:\n",
    "            number = random.choice(total_numbers[50:60])\n",
    "            ticket_array[num] = number\n",
    "            total_numbers[total_numbers.index(number)] = 0\n",
    "        elif num[1] == 6:\n",
    "            number = random.choice(total_numbers[60:70])\n",
    "            ticket_array[num] = number\n",
    "            total_numbers[total_numbers.index(number)] = 0\n",
    "        elif num[1] == 7:\n",
    "            number = random.choice(total_numbers[70:80])\n",
    "            ticket_array[num] = number\n",
    "            total_numbers[total_numbers.index(number)] = 0\n",
    "        elif num[1] == 8:\n",
    "            number = random.choice(total_numbers[80:89])\n",
    "            ticket_array[num] = number\n",
    "            total_numbers[total_numbers.index(number)] = 0\n",
    "            \n",
    "\n",
    "    # Sort the ticket_array column wise to satisfy the RULE #3\n",
    "\n",
    "    for col in range(9):\n",
    "        # if all the rows are filled with random number\n",
    "        if(ticket_array[0][col] != 0 and ticket_array[1][col] != 0 and ticket_array[2][col] != 0):\n",
    "            for row in range(2):\n",
    "                if ticket_array[row][col] > ticket_array[row+1][col]:\n",
    "                    temp = ticket_array[row][col]\n",
    "                    ticket_array[row][col] = ticket_array[row+1][col]\n",
    "                    ticket_array[row+1][col] = temp\n",
    "\n",
    "        # if 1st and 2nd row are filled by random number\n",
    "        elif(ticket_array[0][col] != 0 and ticket_array[1][col] != 0 and ticket_array[2][col] == 0):\n",
    "            if ticket_array[0][col] > ticket_array[1][col]:\n",
    "                temp = ticket_array[0][col]\n",
    "                ticket_array[0][col] = ticket_array[1][col]\n",
    "                ticket_array[1][col] = temp\n",
    "\n",
    "        # if 1st and 3rd row are filled by random number\n",
    "        elif(ticket_array[0][col] != 0 and ticket_array[2][col] != 0 and ticket_array[1][col] == 0):\n",
    "            if ticket_array[0][col] > ticket_array[2][col]:\n",
    "                temp = ticket_array[0][col]\n",
    "                ticket_array[0][col] = ticket_array[2][col]\n",
    "                ticket_array[2][col] = temp\n",
    "\n",
    "        # if 2nd and 3rd rows are filled with random numbers\n",
    "        elif(ticket_array[0][col] == 0 and ticket_array[1][col] != 0 and ticket_array[2][col] != 0):\n",
    "            if ticket_array[1][col] > ticket_array[2][col]:\n",
    "                temp = ticket_array[1][col]\n",
    "                ticket_array[1][col] = ticket_array[2][col]\n",
    "                ticket_array[2][col] = temp\n",
    "\n",
    "    return ticket_array"
   ]
  },
  {
   "cell_type": "code",
   "execution_count": 20,
   "id": "46e81c65",
   "metadata": {},
   "outputs": [
    {
     "name": "stdout",
     "output_type": "stream",
     "text": [
      "[1, 2, 3, 4, 5, 6, 7, 8, 9, 10, 11, 12, 13, 14, 15, 16, 17, 18, 19, 20, 21, 22, 23, 24, 25, 26, 27, 28, 29, 30, 31, 32, 33, 34, 35, 36, 37, 38, 39, 40, 41, 42, 43, 44, 45, 46, 47, 48, 49, 50, 51, 52, 53, 54, 55, 56, 57, 58, 59, 60, 61, 62, 63, 64, 65, 66, 67, 68, 69, 70, 71, 72, 73, 74, 75, 76, 77, 78, 79, 80, 81, 82, 83, 84, 85, 86, 87, 88, 89]\n",
      "[1, 2, 3, 4, 5, 6, 7, 8, 9, 10, 11, 12, 13, 14, 15, 16, 17, 18, 19, 20, 21, 22, 23, 24, 25, 26, 27, 28, 29, 30, 31, 32, 33, 34, 35, 36, 37, 38, 39, 40, 41, 42, 43, 44, 45, 46, 47, 48, 49, 50, 51, 52, 53, 54, 55, 56, 57, 58, 59, 60, 61, 62, 63, 64, 65, 66, 67, 68, 69, 70, 71, 72, 73, 74, 75, 76, 77, 78, 79, 80, 81, 82, 83, 84, 85, 86, 87, 88, 89]\n",
      "[1, 2, 3, 4, 5, 6, 7, 8, 9, 10, 11, 12, 13, 14, 15, 16, 17, 18, 19, 20, 21, 22, 23, 24, 25, 26, 27, 28, 29, 30, 31, 32, 33, 34, 35, 36, 37, 38, 39, 40, 41, 42, 43, 44, 45, 46, 47, 48, 49, 50, 51, 52, 53, 54, 55, 56, 57, 58, 59, 60, 61, 62, 63, 64, 65, 66, 67, 68, 69, 70, 71, 72, 73, 74, 75, 76, 77, 78, 79, 80, 81, 82, 83, 84, 85, 86, 87, 88, 89]\n",
      "[1, 2, 3, 4, 5, 6, 7, 8, 9, 10, 11, 12, 13, 14, 15, 16, 17, 18, 19, 20, 21, 22, 23, 24, 25, 26, 27, 28, 29, 30, 31, 32, 33, 34, 35, 36, 37, 38, 39, 40, 41, 42, 43, 44, 45, 46, 47, 48, 49, 50, 51, 52, 53, 54, 55, 56, 57, 58, 59, 60, 61, 62, 63, 64, 65, 66, 67, 68, 69, 70, 71, 72, 73, 74, 75, 76, 77, 78, 79, 80, 81, 82, 83, 84, 85, 86, 87, 88, 89]\n",
      "[1, 2, 3, 4, 5, 6, 7, 8, 9, 10, 11, 12, 13, 14, 15, 16, 17, 18, 19, 20, 21, 22, 23, 24, 25, 26, 27, 28, 29, 30, 31, 32, 33, 34, 35, 36, 37, 38, 39, 40, 41, 42, 43, 44, 45, 46, 47, 48, 49, 50, 51, 52, 53, 54, 55, 56, 57, 58, 59, 60, 61, 62, 63, 64, 65, 66, 67, 68, 69, 70, 71, 72, 73, 74, 75, 76, 77, 78, 79, 80, 81, 82, 83, 84, 85, 86, 87, 88, 89]\n",
      "[array([[ 5, 19,  0, 38,  0, 52,  0,  0, 82],\n",
      "       [ 3,  0,  0,  0, 47, 57,  0, 74, 85],\n",
      "       [ 9,  0,  0,  0,  0,  0, 69, 78,  0]]), array([[ 6,  0,  0, 37, 47, 54,  0, 75,  0],\n",
      "       [ 0, 18,  0, 38,  0, 56,  0, 73, 87],\n",
      "       [ 0,  0, 26,  0,  0,  0, 61, 76,  0]]), array([[ 0,  0,  0, 31,  0, 52, 64, 72, 83],\n",
      "       [ 8,  0,  0,  0, 43, 55,  0, 73, 85],\n",
      "       [ 0, 19,  0,  0, 46,  0, 67, 76,  0]]), array([[ 3, 16,  0, 31,  0,  0, 69, 72,  0],\n",
      "       [ 9, 19, 25, 35,  0,  0,  0,  0, 82],\n",
      "       [ 0,  0, 30, 38,  0, 58,  0, 79, 86]]), array([[ 2, 13,  0,  0, 41,  0, 64, 72,  0],\n",
      "       [ 3,  0,  0, 33, 46,  0,  0, 74, 83],\n",
      "       [ 9,  0, 21,  0, 48, 60, 67,  0,  0]])]\n"
     ]
    }
   ],
   "source": [
    "allPlayerTickets = []\n",
    "\n",
    "for i in range(N):\n",
    "    tickets = getTickets()\n",
    "    allPlayerTickets.append(tickets)\n",
    "print(allPlayerTickets)"
   ]
  },
  {
   "cell_type": "code",
   "execution_count": 5,
   "id": "3b91dca9",
   "metadata": {},
   "outputs": [
    {
     "name": "stdout",
     "output_type": "stream",
     "text": [
      "[ 7. 11. 59. 14. 85. 63. 35. 24. 32. 76. 68. 71. 19. 37. 22.]\n"
     ]
    }
   ],
   "source": [
    "callerSelectionIndex=np.random.randint(low=1, high=n, size=C)\n",
    "callerTickets = np.array(ticketNumberDistribution[callerSelectionIndex])\n",
    "print(callerTickets)"
   ]
  },
  {
   "cell_type": "code",
   "execution_count": 6,
   "id": "6c1e0b24",
   "metadata": {},
   "outputs": [
    {
     "name": "stdout",
     "output_type": "stream",
     "text": [
      "[33, 2, 60, 18, 74, 1, 92, 31, 39, 25, 48, 14, 86, 11, 100, 78, 77, 10, 9, 68, 6, 67, 80, 65, 94, 62, 89, 70, 84, 45, 46, 12, 61, 51, 28, 54, 87, 23, 98, 97, 49, 44, 36, 59, 63, 85, 99, 76, 81, 69, 55, 95, 93, 47, 20, 32, 57, 26, 34, 72, 16, 53, 88, 79, 96, 40, 37, 8, 15, 30, 43, 7, 38, 3, 58, 24, 17, 90, 41, 21, 73, 91, 42, 29, 19, 56, 13, 83, 82, 71, 27, 64, 50, 66, 4, 22, 5, 35, 75, 52]\n"
     ]
    }
   ],
   "source": [
    "number_sequence = random.sample(range(1, 101), 100)\n",
    "print(number_sequence)"
   ]
  },
  {
   "cell_type": "code",
   "execution_count": 7,
   "id": "cad73461",
   "metadata": {},
   "outputs": [],
   "source": [
    "#Priority orders\n",
    "EarlyFive =6 # The ticket with first five number dabbed\n",
    "TopLine = 5  # The ticket with all the numbers of the top row dabbed fastest.\n",
    "MiddleLine = 4#The ticket with all the numbers of the middle row dabbed fastest.\n",
    "BottomLine = 3 #The ticket with the numbers of the bottom row dabbed fasted.\n",
    "FourCorners = 2 # The ticket with all four corners marked first i.e. 1st and last numbers of top and bottom rows.\n",
    "FullHouse = 1 #The ticket with all the 15 numbers marked first.\n",
    "gameStateLen = 7\n",
    "gameState = {'InGame' : '0','FullHouse' : '1','FourCorners' : '2','BottomLine' : '3', 'MiddleLine':'4','TopLine':'5','EarlyFive':'6'}\n",
    "playerStates = [ [0] * gameStateLen for _ in range(N)]\n"
   ]
  },
  {
   "cell_type": "code",
   "execution_count": 8,
   "id": "23b868f0",
   "metadata": {},
   "outputs": [],
   "source": [
    "def FullHouse(allPlayerTickets):\n",
    "    for i in range(N):\n",
    "        count = 0\n",
    "        if(sum(allPlayerTickets[i]) == 0):\n",
    "            playerStates[i][FullHouse] = 1\n",
    "def EarlyFive(allPlayerTickets):\n",
    "    for i in range(N):\n",
    "        if(allPlayerTickets[i].count(0) == 17):\n",
    "            playerStates[i][EarlyFive] = 1\n",
    "def TopLine(allPlayerTickets):\n",
    "    for i in range(N):\n",
    "        if(sum(allPlayerTickets[i][0]) == 0):\n",
    "            playerStates[i][TopLine] = 1\n",
    "def MiddleLine(allPlayerTickets):\n",
    "    for i in range(N):\n",
    "        if(sum(allPlayerTickets[i][1]) == 0):\n",
    "            playerStates[i][MiddleLine] = 1\n",
    "def BottomLine(allPlayerTickets):\n",
    "    for i in range(N):\n",
    "        if(sum(allPlayerTickets[i][2]) == 0):\n",
    "            playerStates[i][BottomLine] = 1\n",
    "def FourCorners(allPlayerTickets):\n",
    "    for i in range(N):\n",
    "        if(allPlayerTickets[i][0][0] \n",
    "           + allPlayerTickets[i][0][columnsInTicket-1] \n",
    "           + allPlayerTickets[i][rowsInTicket-1][0] \n",
    "           + allPlayerTickets[i][rowsInTicket-1][columnsInTicket-1] == 0):\n",
    "            playerStates[i][FourCorners] = 1"
   ]
  },
  {
   "cell_type": "code",
   "execution_count": 9,
   "id": "c5a0bfe9",
   "metadata": {},
   "outputs": [],
   "source": [
    "#TODOOOOOOOOO, fix this shitty code\n",
    "def slashTickets(allPlayerTickets, called_num):\n",
    "    for i in range(N):\n",
    "            for a in range(rowsInTicket):\n",
    "                for b in range(columnsInTicket):\n",
    "                    if allPlayerTickets[i][a][b] == called_num:\n",
    "                        allPlayerTickets[i][a][b] = 0            "
   ]
  },
  {
   "cell_type": "code",
   "execution_count": 10,
   "id": "f2556d41",
   "metadata": {},
   "outputs": [
    {
     "ename": "SyntaxError",
     "evalue": "unexpected EOF while parsing (<ipython-input-10-32cc59cc262e>, line 3)",
     "output_type": "error",
     "traceback": [
      "\u001b[0;36m  File \u001b[0;32m\"<ipython-input-10-32cc59cc262e>\"\u001b[0;36m, line \u001b[0;32m3\u001b[0m\n\u001b[0;31m    \u001b[0m\n\u001b[0m    ^\u001b[0m\n\u001b[0;31mSyntaxError\u001b[0m\u001b[0;31m:\u001b[0m unexpected EOF while parsing\n"
     ]
    }
   ],
   "source": [
    "for call_index,call_value in enum(number_sequence):\n",
    "    \n",
    "    "
   ]
  },
  {
   "cell_type": "code",
   "execution_count": null,
   "id": "e0167e05",
   "metadata": {},
   "outputs": [],
   "source": []
  }
 ],
 "metadata": {
  "kernelspec": {
   "display_name": "Python 3",
   "language": "python",
   "name": "python3"
  },
  "language_info": {
   "codemirror_mode": {
    "name": "ipython",
    "version": 3
   },
   "file_extension": ".py",
   "mimetype": "text/x-python",
   "name": "python",
   "nbconvert_exporter": "python",
   "pygments_lexer": "ipython3",
   "version": "3.8.8"
  }
 },
 "nbformat": 4,
 "nbformat_minor": 5
}
