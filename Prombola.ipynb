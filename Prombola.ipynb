{
 "cells": [
  {
   "cell_type": "markdown",
   "id": "bd78bf1d",
   "metadata": {},
   "source": [
    "We have designed a game inspired from a very old traditional Indian game called Tambola. It is played with a uniform distribution of natural numbers. We have renovated the game to apply our takeaways from the course ECE 225A, and made it more interesting. "
   ]
  },
  {
   "cell_type": "code",
   "execution_count": 1,
   "id": "6e471828",
   "metadata": {},
   "outputs": [],
   "source": [
    "import random\n",
    "import numpy as np\n",
    "import sys\n",
    "\n",
    "#GAME PARAMETERS\n",
    "mu, sigma = 50, 35 # mean and standard deviation\n",
    "n=90 #range of numbers that will be called\n",
    "N=5 #number of player\n",
    "C=15 #number of cards the caller calls\n",
    "R=10 #number of cards with players\n",
    "rowsInTicket=3  #number of rows in the players' tickets\n",
    "columnsInTicket=9  #number of columns in the players' tickets\n",
    "     "
   ]
  },
  {
   "cell_type": "code",
   "execution_count": 2,
   "id": "4f70d92b",
   "metadata": {},
   "outputs": [
    {
     "name": "stdout",
     "output_type": "stream",
     "text": [
      "[ 9. 48. 71. 67. 63. 38.  6. 36. 55. 41. 81.  7. 55. 11. 79. 41. 26. 33.\n",
      " 86. 24. 77. 72. 39. 65. 67. 63.  5. 23. 50. 76. 79. 84. 26. 57. 29. 20.\n",
      " 81. 40. 66. 23. 72. 36. 30. 35. 44. 19. 50. 32. 43. 80.  8. 59. 60. 53.\n",
      " 79. 55. 48. 18. 38. 77. 47. 52. 79. 61. 81. 81. 54. 64.  3. 32. 55.  4.\n",
      " 85. 63. 60. 26. 27. 24. 46. 68. 27. 12. 56. 20. 50. 59. 11. 63. 57. 85.]\n"
     ]
    }
   ],
   "source": [
    "#To define the distribution of tickets, \n",
    "# we generate random numbers from a normal distribution with the specified mu and sigma\n",
    "# To avoid numbers >100 we take module of the numbers with 100\n",
    "# To avoid negative numbers, we take an absolute of their values\n",
    "s = np.random.normal(mu, sigma, n)   \n",
    "ticketNumberDistribution = abs(np.floor(s)%n)  \n",
    "print(ticketNumberDistribution)"
   ]
  },
  {
   "cell_type": "code",
   "execution_count": 3,
   "id": "ea8e517a",
   "metadata": {},
   "outputs": [],
   "source": [
    "def getTickets():\n",
    "    \"\"\"\n",
    "    #1 - Maintain array of total_numbers between 1 and 90. Initialize ticket_array as 3x9 array of 0s\n",
    "    #2 - Generate 15 random indices from the array of total_indices. \n",
    "    #3 - Compute index to drop the value into based on RULE #1, RULE #2\n",
    "    #4 - Remove values used in the ticket from the base array (RULE #1, RULE #2)\n",
    "    #5 - Repeat till 15 numbers are populated into ticket\n",
    "    #6 - Sort numbers in every column of the ticket based on RULE #3\n",
    "    \"\"\"\n",
    "    # Create a 2D array [3x9] of 0s\n",
    "    ticket_array = np.zeros((3, 9), dtype=int)\n",
    "    # Create an a list of numbers from 1 to 90.\n",
    "    total_numbers = [num for num in range(1, 90)]\n",
    "    # Create a list of tupele of all the indices of 3x9 ticket_array . i.e (0,0),(0,1),...,(2,8)\n",
    "    total_indices = [(i, j) for i in range(3) for j in range(9)]\n",
    "    # Create an empty list to store 15 random indices to fill in the value.\n",
    "    random_indices = []\n",
    "\n",
    "    # Generate 15 random indices that satisfies RULE #1 and store them in random_indices array.\n",
    "\n",
    "    first_row = random.sample(total_indices[:9], 5)\n",
    "    second_row = random.sample(total_indices[9:18], 5)\n",
    "    third_row = random.sample(total_indices[-9:], 5)\n",
    "\n",
    "    for i in first_row:\n",
    "        random_indices.append(i)\n",
    "\n",
    "    for i in second_row:\n",
    "        random_indices.append(i)\n",
    "\n",
    "    for i in third_row:\n",
    "        random_indices.append(i)\n",
    "\n",
    "    # Populate values in the randomly generated indices such that it satisfies RULE #2 and replace the  value of the used value in total_numbers array by 0.\n",
    "\n",
    "    for num in random_indices:\n",
    "        if num[1] == 0:\n",
    "            number = random.choice(total_numbers[:10])\n",
    "            ticket_array[num] = number\n",
    "            total_numbers[total_numbers.index(number)] = 0\n",
    "        elif num[1] == 1:\n",
    "            number = random.choice(total_numbers[10:20])\n",
    "            ticket_array[num] = number\n",
    "            total_numbers[total_numbers.index(number)] = 0\n",
    "        elif num[1] == 2:\n",
    "            number = random.choice(total_numbers[20:30])\n",
    "            ticket_array[num] = number\n",
    "            total_numbers[total_numbers.index(number)] = 0\n",
    "        elif num[1] == 3:\n",
    "            number = random.choice(total_numbers[30:40])\n",
    "            ticket_array[num] = number\n",
    "            total_numbers[total_numbers.index(number)] = 0\n",
    "        elif num[1] == 4:\n",
    "            number = random.choice(total_numbers[40:50])\n",
    "            ticket_array[num] = number\n",
    "            total_numbers[total_numbers.index(number)] = 0\n",
    "        elif num[1] == 5:\n",
    "            number = random.choice(total_numbers[50:60])\n",
    "            ticket_array[num] = number\n",
    "            total_numbers[total_numbers.index(number)] = 0\n",
    "        elif num[1] == 6:\n",
    "            number = random.choice(total_numbers[60:70])\n",
    "            ticket_array[num] = number\n",
    "            total_numbers[total_numbers.index(number)] = 0\n",
    "        elif num[1] == 7:\n",
    "            number = random.choice(total_numbers[70:80])\n",
    "            ticket_array[num] = number\n",
    "            total_numbers[total_numbers.index(number)] = 0\n",
    "        elif num[1] == 8:\n",
    "            number = random.choice(total_numbers[80:89])\n",
    "            ticket_array[num] = number\n",
    "            total_numbers[total_numbers.index(number)] = 0\n",
    "\n",
    "    # Sort the ticket_array column wise to satisfy the RULE #3\n",
    "\n",
    "    for col in range(9):\n",
    "        # if all the rows are filled with random number\n",
    "        if(ticket_array[0][col] != 0 and ticket_array[1][col] != 0 and ticket_array[2][col] != 0):\n",
    "            for row in range(2):\n",
    "                if ticket_array[row][col] > ticket_array[row+1][col]:\n",
    "                    temp = ticket_array[row][col]\n",
    "                    ticket_array[row][col] = ticket_array[row+1][col]\n",
    "                    ticket_array[row+1][col] = temp\n",
    "\n",
    "        # if 1st and 2nd row are filled by random number\n",
    "        elif(ticket_array[0][col] != 0 and ticket_array[1][col] != 0 and ticket_array[2][col] == 0):\n",
    "            if ticket_array[0][col] > ticket_array[1][col]:\n",
    "                temp = ticket_array[0][col]\n",
    "                ticket_array[0][col] = ticket_array[1][col]\n",
    "                ticket_array[1][col] = temp\n",
    "\n",
    "        # if 1st and 3rd row are filled by random number\n",
    "        elif(ticket_array[0][col] != 0 and ticket_array[2][col] != 0 and ticket_array[1][col] == 0):\n",
    "            if ticket_array[0][col] > ticket_array[2][col]:\n",
    "                temp = ticket_array[0][col]\n",
    "                ticket_array[0][col] = ticket_array[2][col]\n",
    "                ticket_array[2][col] = temp\n",
    "\n",
    "        # if 2nd and 3rd rows are filled with random numbers\n",
    "        elif(ticket_array[0][col] == 0 and ticket_array[1][col] != 0 and ticket_array[2][col] != 0):\n",
    "            if ticket_array[1][col] > ticket_array[2][col]:\n",
    "                temp = ticket_array[1][col]\n",
    "                ticket_array[1][col] = ticket_array[2][col]\n",
    "                ticket_array[2][col] = temp\n",
    "\n",
    "    return ticket_array"
   ]
  },
  {
   "cell_type": "code",
   "execution_count": 16,
   "id": "46e81c65",
   "metadata": {},
   "outputs": [
    {
     "name": "stdout",
     "output_type": "stream",
     "text": [
      "[array([[ 1,  0, 26,  0, 42,  0, 66,  0, 86],\n",
      "       [ 0, 15,  0,  0, 49, 51, 63,  0,  0],\n",
      "       [ 3, 16,  0,  0,  0,  0, 70, 76, 89]]), array([[ 5,  0, 28,  0, 46, 53,  0,  0, 81],\n",
      "       [ 9, 11,  0,  0,  0, 54, 67, 79,  0],\n",
      "       [ 0, 16,  0,  0, 47, 60, 68,  0, 83]]), array([[ 0, 19, 29, 37,  0,  0, 62, 79,  0],\n",
      "       [ 3,  0,  0, 32, 43, 52,  0,  0, 84],\n",
      "       [ 7,  0,  0, 38,  0,  0, 67, 80, 85]]), array([[ 4, 15,  0, 32,  0, 56,  0, 77,  0],\n",
      "       [ 0, 16,  0, 36,  0, 55,  0,  0, 87],\n",
      "       [ 9,  0,  0,  0, 49, 57, 61, 78,  0]]), array([[ 0, 18, 21,  0, 42,  0,  0, 74, 84],\n",
      "       [ 9,  0,  0, 39, 50, 51,  0, 80,  0],\n",
      "       [10,  0, 24, 40,  0,  0,  0,  0, 86]])]\n"
     ]
    }
   ],
   "source": [
    "allPlayerTickets = []\n",
    "\n",
    "for i in range(N):\n",
    "    tickets = getTickets()\n",
    "    allPlayerTickets.append(tickets)\n",
    "print(allPlayerTickets)"
   ]
  },
  {
   "cell_type": "code",
   "execution_count": 5,
   "id": "3b91dca9",
   "metadata": {},
   "outputs": [
    {
     "name": "stdout",
     "output_type": "stream",
     "text": [
      "[24. 40. 38. 26. 60. 55. 20. 46. 63. 41. 41. 50. 63. 67. 38.]\n"
     ]
    }
   ],
   "source": [
    "callerSelectionIndex=np.random.randint(low=1, high=n, size=C)\n",
    "callerTickets = np.array(ticketNumberDistribution[callerSelectionIndex])\n",
    "print(callerTickets)"
   ]
  },
  {
   "cell_type": "code",
   "execution_count": 10,
   "id": "6c1e0b24",
   "metadata": {},
   "outputs": [
    {
     "name": "stdout",
     "output_type": "stream",
     "text": [
      "[44, 8, 45, 2, 54, 23, 80, 60, 20, 43, 74, 70, 93, 10, 99, 69, 88, 50, 1, 31, 66, 61, 57, 75, 71, 47, 90, 68, 6, 91, 95, 100, 81, 26, 7, 21, 27, 52, 37, 32, 42, 89, 83, 5, 11, 48, 28, 72, 46, 98, 92, 63, 87, 15, 73, 30, 84, 36, 33, 65, 3, 35, 64, 62, 85, 16, 29, 53, 18, 58, 34, 79, 96, 24, 59, 4, 22, 14, 51, 78, 94, 19, 97, 56, 55, 25, 67, 17, 76, 41, 49, 40, 13, 39, 12, 86, 9, 38, 82, 77]\n"
     ]
    }
   ],
   "source": [
    "number_sequence = random.sample(range(1, 101), 100)\n",
    "print(number_sequence)"
   ]
  },
  {
   "cell_type": "code",
   "execution_count": 12,
   "id": "cad73461",
   "metadata": {},
   "outputs": [
    {
     "name": "stdout",
     "output_type": "stream",
     "text": [
      "[[0, 0, 0, 0, 0, 0, 0], [0, 0, 0, 0, 0, 0, 0], [0, 0, 0, 0, 0, 0, 0], [0, 0, 0, 0, 0, 0, 0], [0, 0, 0, 0, 0, 0, 0]]\n"
     ]
    }
   ],
   "source": [
    "#Priority orders\n",
    "EarlyFive =6 # The ticket with first five number dabbed\n",
    "TopLine = 5  # The ticket with all the numbers of the top row dabbed fastest.\n",
    "MiddleLine = 4#The ticket with all the numbers of the middle row dabbed fastest.\n",
    "BottomLine = 3 #The ticket with the numbers of the bottom row dabbed fasted.\n",
    "FourCorners = 2 # The ticket with all four corners marked first i.e. 1st and last numbers of top and bottom rows.\n",
    "FullHouse = 1 #The ticket with all the 15 numbers marked first.\n",
    "gameStateLen = 7\n",
    "gameState = {'InGame' : '0','FullHouse' : '1','FourCorners' : '2','BottomLine' : '3', 'MiddleLine':'4','TopLine':'5','EarlyFive':'6'}\n",
    "playerStates = [ [0] * gameStateLen for _ in range(N)]\n"
   ]
  },
  {
   "cell_type": "code",
   "execution_count": 18,
   "id": "23b868f0",
   "metadata": {},
   "outputs": [],
   "source": [
    "def FullHouse(allPlayerTickets):\n",
    "    for i in range(N):\n",
    "        count = 0\n",
    "        if(sum(allPlayerTickets[i]) == 0):\n",
    "            playerStates[i][FullHouse] = 1\n",
    "def EarlyFive(allPlayerTickets):\n",
    "    for i in range(N):\n",
    "        if(allPlayerTickets[i].count(0) == 17):\n",
    "            playerStates[i][EarlyFive] = 1\n",
    "def TopLine(allPlayerTickets):\n",
    "    for i in range(N):\n",
    "        if(sum(allPlayerTickets[i][0]) == 0):\n",
    "            playerStates[i][TopLine] = 1\n",
    "def MiddleLine(allPlayerTickets):\n",
    "    for i in range(N):\n",
    "        if(sum(allPlayerTickets[i][1]) == 0):\n",
    "            playerStates[i][MiddleLine] = 1\n",
    "def BottomLine(allPlayerTickets):\n",
    "    for i in range(N):\n",
    "        if(sum(allPlayerTickets[i][2]) == 0):\n",
    "            playerStates[i][BottomLine] = 1\n",
    "def FourCorners(allPlayerTickets):\n",
    "    for i in range(N):\n",
    "        if(allPlayerTickets[i][0][0] \n",
    "           + allPlayerTickets[i][0][columnsInTicket-1] \n",
    "           + allPlayerTickets[i][rowsInTicket-1][0] \n",
    "           + allPlayerTickets[i][rowsInTicket-1][columnsInTicket-1] == 0):\n",
    "            playerStates[i][FourCorners] = 1"
   ]
  },
  {
   "cell_type": "code",
   "execution_count": 20,
   "id": "c5a0bfe9",
   "metadata": {},
   "outputs": [],
   "source": [
    "#TODOOOOOOOOO, fix this shitty code\n",
    "def slashTickets(allPlayerTickets, called_num):\n",
    "    for i in range(N):\n",
    "            for a in range(rowsInTicket):\n",
    "                for b in range(columnsInTicket):\n",
    "                    if allPlayerTickets[i][a][b] == called_num:\n",
    "                        allPlayerTickets[i][a][b] = 0            "
   ]
  },
  {
   "cell_type": "code",
   "execution_count": null,
   "id": "f2556d41",
   "metadata": {},
   "outputs": [],
   "source": [
    "for call_index,call_value in enum(number_sequence):\n",
    "    \n",
    "    "
   ]
  }
 ],
 "metadata": {
  "kernelspec": {
   "display_name": "Python 3",
   "language": "python",
   "name": "python3"
  },
  "language_info": {
   "codemirror_mode": {
    "name": "ipython",
    "version": 3
   },
   "file_extension": ".py",
   "mimetype": "text/x-python",
   "name": "python",
   "nbconvert_exporter": "python",
   "pygments_lexer": "ipython3",
   "version": "3.8.8"
  }
 },
 "nbformat": 4,
 "nbformat_minor": 5
}
