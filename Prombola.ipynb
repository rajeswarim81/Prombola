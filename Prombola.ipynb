{
 "cells": [
  {
   "cell_type": "markdown",
   "id": "bd78bf1d",
   "metadata": {},
   "source": [
    "We have designed a game inspired from a very old traditional Indian game called Tambola. It is played with a uniform distribution of natural numbers. We have renovated the game to apply our takeaways from the course ECE 225A, and made it more interesting. "
   ]
  },
  {
   "cell_type": "code",
   "execution_count": 43,
   "id": "6e471828",
   "metadata": {},
   "outputs": [],
   "source": [
    "import numpy as np\n",
    "import matplotlib.pyplot as plt\n",
    "\n",
    "#GAME PARAMETERS\n",
    "mu, sigma = 50, 35 # mean and standard deviation\n",
    "N=5 #number of players\n",
    "R=10 #number of cards with players\n",
    "     "
   ]
  },
  {
   "cell_type": "code",
   "execution_count": 44,
   "id": "4f70d92b",
   "metadata": {},
   "outputs": [
    {
     "name": "stdout",
     "output_type": "stream",
     "text": [
      "[ 5. 35. 58. 69. 40.  2. 62. 22. 52.  0. 98. 52. 58. 10. 96. 12. 76.  2.\n",
      " 97. 84. 23.  2. 23. 94. 21. 71. 92. 53. 76. 19. 42. 53. 20. 80. 26. 50.\n",
      " 24. 51. 42. 30. 61. 56. 85.  0. 58. 15. 51. 34. 96. 13. 61. 16. 39. 47.\n",
      " 48. 28. 75. 76. 54. 96. 86. 68. 86. 60. 48. 37. 60. 58. 14. 25. 32. 53.\n",
      " 45. 74. 84. 36.  5. 25. 60. 48. 64. 93. 66. 34. 20. 60. 54. 14. 58. 23.\n",
      " 85. 17.  2. 87. 76. 26. 43. 45. 17. 39.]\n"
     ]
    }
   ],
   "source": [
    "#To define the distribution of tickets, \n",
    "# we generate random numbers from a normal distribution with the specified mu and sigma\n",
    "# To avoid numbers >100 we take module of the numbers with 100\n",
    "# To avoid negative numbers, we take an absolute of their values\n",
    "s = np.random.normal(mu, sigma, 100)   \n",
    "ticketNumberDistribution = abs(np.floor(s)%100)  \n",
    "print(ticketNumberDistribution)"
   ]
  },
  {
   "cell_type": "code",
   "execution_count": 45,
   "id": "ea8e517a",
   "metadata": {},
   "outputs": [
    {
     "name": "stdout",
     "output_type": "stream",
     "text": [
      "[96. 32. 74. 40. 47. 12.  2. 25. 34. 21.]\n"
     ]
    }
   ],
   "source": [
    "#We generate 10 random numbers between 1 to 100, to select the 10 tickets from the above distribution\n",
    "\n",
    "#TODO: create a 2d array for multiple players, N players\n",
    "playerSelectionIndex = np.random.randint(low=1, high=100, size=10)\n",
    "#Tickets are selected\n",
    "playerTickets = np.array(ticketNumberDistribution[playerSelectionIndex])\n",
    "print(playerTickets)"
   ]
  },
  {
   "cell_type": "code",
   "execution_count": 46,
   "id": "46e81c65",
   "metadata": {},
   "outputs": [
    {
     "name": "stdout",
     "output_type": "stream",
     "text": [
      "[42. 42. 15. 69. 60. 13.  2. 96. 84. 10.]\n"
     ]
    }
   ],
   "source": [
    "callerSelectionIndex=np.random.randint(low=1, high=100, size=10)\n",
    "callerTickets = np.array(ticketNumberDistribution[callerSelectionIndex])\n",
    "print(callerTickets)"
   ]
  },
  {
   "cell_type": "code",
   "execution_count": null,
   "id": "93c6f7f3",
   "metadata": {},
   "outputs": [],
   "source": []
  }
 ],
 "metadata": {
  "kernelspec": {
   "display_name": "Python 3",
   "language": "python",
   "name": "python3"
  },
  "language_info": {
   "codemirror_mode": {
    "name": "ipython",
    "version": 3
   },
   "file_extension": ".py",
   "mimetype": "text/x-python",
   "name": "python",
   "nbconvert_exporter": "python",
   "pygments_lexer": "ipython3",
   "version": "3.8.8"
  }
 },
 "nbformat": 4,
 "nbformat_minor": 5
}
