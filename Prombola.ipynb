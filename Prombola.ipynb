{
 "cells": [
  {
   "cell_type": "markdown",
   "id": "bd78bf1d",
   "metadata": {},
   "source": [
    "We have designed a game inspired from a very old traditional Indian game called Tambola. It is played with a uniform distribution of natural numbers. We have renovated the game to apply our takeaways from the course ECE 225A, and made it more interesting. "
   ]
  },
  {
   "cell_type": "code",
   "execution_count": null,
   "id": "6e471828",
   "metadata": {},
   "outputs": [],
   "source": [
    "import numpy as np\n",
    "import matplotlib.pyplot as plt\n",
    "\n",
    "#GAME PARAMETERS\n",
    "mu, sigma = 50, 35 # mean and standard deviation\n",
    "n=100 #range of numbers that will be called\n",
    "N=5 #number of player\n",
    "C=15 #number of cards the caller calls\n",
    "R=10 #number of cards with players\n",
    "     "
   ]
  },
  {
   "cell_type": "code",
   "execution_count": null,
   "id": "4f70d92b",
   "metadata": {},
   "outputs": [],
   "source": [
    "#To define the distribution of tickets, \n",
    "# we generate random numbers from a normal distribution with the specified mu and sigma\n",
    "# To avoid numbers >100 we take module of the numbers with 100\n",
    "# To avoid negative numbers, we take an absolute of their values\n",
    "s = np.random.normal(mu, sigma, n)   \n",
    "ticketNumberDistribution = abs(np.floor(s)%n)  \n",
    "print(ticketNumberDistribution)"
   ]
  },
  {
   "cell_type": "code",
   "execution_count": null,
   "id": "ea8e517a",
   "metadata": {},
   "outputs": [],
   "source": [
    "#We generate 10 random numbers between 1 to 100, to select the 10 tickets from the above distribution\n",
    "\n",
    "allPlayerTickets = []\n",
    "\n",
    "for i in range(R): \n",
    "    playerSelectionIndex = np.random.randint(low=1, high=n, size=R)\n",
    "    #Tickets are selected\n",
    "    playerTickets = np.array(ticketNumberDistribution[playerSelectionIndex])\n",
    "    allPlayerTickets.append(playerTickets)\n",
    "print(allPlayerTickets)"
   ]
  },
  {
   "cell_type": "code",
   "execution_count": null,
   "id": "46e81c65",
   "metadata": {},
   "outputs": [],
   "source": [
    "callerSelectionIndex=np.random.randint(low=1, high=n, size=c)\n",
    "callerTickets = np.array(ticketNumberDistribution[callerSelectionIndex])\n",
    "print(callerTickets)"
   ]
  }
 ],
 "metadata": {
  "kernelspec": {
   "display_name": "Python 3",
   "language": "python",
   "name": "python3"
  },
  "language_info": {
   "codemirror_mode": {
    "name": "ipython",
    "version": 3
   },
   "file_extension": ".py",
   "mimetype": "text/x-python",
   "name": "python",
   "nbconvert_exporter": "python",
   "pygments_lexer": "ipython3",
   "version": "3.8.8"
  }
 },
 "nbformat": 4,
 "nbformat_minor": 5
}
